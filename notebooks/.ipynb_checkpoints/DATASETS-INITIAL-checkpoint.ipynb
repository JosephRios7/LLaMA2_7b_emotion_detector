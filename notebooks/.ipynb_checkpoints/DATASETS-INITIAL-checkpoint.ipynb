{
 "cells": [
  {
   "cell_type": "code",
   "execution_count": 75,
   "id": "e918fae3-5d82-4911-a1bd-5958afe77a61",
   "metadata": {},
   "outputs": [],
   "source": [
    "import pandas as pd\n",
    "\n",
    "# Cargar datasets\n",
    "df1 = pd.read_csv('../data/emoevent_es.csv', sep='\\t')\n",
    "df2 = pd.read_csv('../data/MEACORPUS_data.csv')\n",
    "\n",
    "df_1 = pd.read_csv('../data/english/test.txt', sep=';', header=None, names=['text', 'emotion'], engine='python')\n",
    "df_2 = pd.read_csv('../data/english/train.txt', sep=';', header=None, names=['text', 'emotion'], engine='python')\n",
    "df_3 = pd.read_csv('../data/english/val.txt', sep=';', header=None, names=['text', 'emotion'], engine='python')\n",
    "df3 = pd.concat([df_1, df_2, df_3], ignore_index=True)\n",
    "\n",
    "df4 = pd.read_csv('../data/HRECPW/hrecpw_dataset.csv')"
   ]
  },
  {
   "cell_type": "code",
   "execution_count": 76,
   "id": "2d8ebfd9-5992-4782-ad47-63b7e78192e5",
   "metadata": {},
   "outputs": [],
   "source": [
    "df1 = df1[df1[\"emotion\"] != \"surprise\"].copy()"
   ]
  },
  {
   "cell_type": "code",
   "execution_count": 77,
   "id": "e0c6dc3e-6911-4a20-a81f-cc8d6cba43bc",
   "metadata": {},
   "outputs": [],
   "source": [
    "df1 = df1.drop(columns=[\"offensive\"] )\n",
    "df1.rename(columns={'tweet': 'text'}, inplace=True)"
   ]
  },
  {
   "cell_type": "code",
   "execution_count": 78,
   "id": "3f4c8312-d7bd-4617-a6d5-9e648861b6a4",
   "metadata": {},
   "outputs": [
    {
     "data": {
      "text/plain": [
       "emotion\n",
       "others     4127\n",
       "joy        1815\n",
       "sadness    1009\n",
       "anger       857\n",
       "disgust     161\n",
       "fear         96\n",
       "Name: count, dtype: int64"
      ]
     },
     "execution_count": 78,
     "metadata": {},
     "output_type": "execute_result"
    }
   ],
   "source": [
    "# emoevent\n",
    "df1['emotion'].value_counts()"
   ]
  },
  {
   "cell_type": "code",
   "execution_count": 79,
   "id": "61c22554-d3c6-4930-a883-d4e2120bbc5e",
   "metadata": {},
   "outputs": [],
   "source": [
    "emotion_mapping = {\n",
    "    'others': 'neutral',\n",
    "    'anger': 'ira',\n",
    "    'disgust': 'disgusto',\n",
    "    'sadness': 'tristeza',\n",
    "    'joy': 'alegría',\n",
    "    'fear': 'miedo'\n",
    "}\n",
    "df1['emotion'] = df1['emotion'].map(emotion_mapping)"
   ]
  },
  {
   "cell_type": "code",
   "execution_count": 80,
   "id": "fb4f0200-0ba9-43ea-8a89-c6a196852c2f",
   "metadata": {},
   "outputs": [
    {
     "data": {
      "text/plain": [
       "emotion\n",
       "neutral     4127\n",
       "alegría     1815\n",
       "tristeza    1009\n",
       "ira          857\n",
       "disgusto     161\n",
       "miedo         96\n",
       "Name: count, dtype: int64"
      ]
     },
     "execution_count": 80,
     "metadata": {},
     "output_type": "execute_result"
    }
   ],
   "source": [
    "df1['emotion'].value_counts()"
   ]
  },
  {
   "cell_type": "code",
   "execution_count": 81,
   "id": "4fb163a0-f00d-4dd8-a312-ff7e32025337",
   "metadata": {},
   "outputs": [],
   "source": [
    "df2 = df2.drop(columns=[\"youtube_key\" , \"filename\" , \"segment_id\", \"gender\",\t\"start_time\",\t\"end_time\", \"split\"] )\n",
    "df2.rename(columns={'label': 'emotion', 'transcription': 'text'}, inplace=True)\n",
    "df2 = df2[df2[\"emotion\"] != \"surprise\"].copy()"
   ]
  },
  {
   "cell_type": "code",
   "execution_count": 82,
   "id": "1ea63331-1dbd-4d44-991c-db5499bded81",
   "metadata": {},
   "outputs": [],
   "source": [
    "emotion_mapping = {\n",
    "    'neutral': 'neutral',\n",
    "    'anger': 'ira',\n",
    "    'disgust': 'disgusto',\n",
    "    'sadness': 'tristeza',\n",
    "    'joy': 'alegría',\n",
    "    'fear': 'miedo'\n",
    "}"
   ]
  },
  {
   "cell_type": "code",
   "execution_count": 83,
   "id": "ccd1039d-ec57-4ad5-896f-27277be33fc4",
   "metadata": {},
   "outputs": [],
   "source": [
    "df2['emotion'] = df2['emotion'].map(emotion_mapping)"
   ]
  },
  {
   "cell_type": "code",
   "execution_count": 84,
   "id": "a5d88796-d0d5-40b0-98c4-1219b3cb5485",
   "metadata": {},
   "outputs": [
    {
     "data": {
      "text/plain": [
       "emotion\n",
       "neutral     1999\n",
       "disgusto    1200\n",
       "ira          668\n",
       "alegría      643\n",
       "tristeza     582\n",
       "miedo         37\n",
       "Name: count, dtype: int64"
      ]
     },
     "execution_count": 84,
     "metadata": {},
     "output_type": "execute_result"
    }
   ],
   "source": [
    "# meacorpus\n",
    "df2['emotion'].value_counts()"
   ]
  },
  {
   "cell_type": "code",
   "execution_count": 85,
   "id": "b3753829-6fb7-4c3b-a8ae-0108b889fb1e",
   "metadata": {},
   "outputs": [
    {
     "data": {
      "text/plain": [
       "emotion\n",
       "joy         6761\n",
       "sadness     5797\n",
       "anger       2709\n",
       "fear        2373\n",
       "love        1641\n",
       "surprise     719\n",
       "Name: count, dtype: int64"
      ]
     },
     "execution_count": 85,
     "metadata": {},
     "output_type": "execute_result"
    }
   ],
   "source": [
    "# translated\n",
    "df3['emotion'].value_counts()"
   ]
  },
  {
   "cell_type": "code",
   "execution_count": 86,
   "id": "2902a56d-7ce8-447a-be8f-2ae498052a5e",
   "metadata": {},
   "outputs": [],
   "source": [
    "df3 = df3[df3[\"emotion\"] != \"love\"].copy()\n",
    "df3 = df3[df3[\"emotion\"] != \"surprise\"].copy()\n",
    "df3['emotion'] = df3['emotion'].map(emotion_mapping)"
   ]
  },
  {
   "cell_type": "code",
   "execution_count": 87,
   "id": "294d4ba3-49d4-42dd-818f-a4ae6befd50c",
   "metadata": {},
   "outputs": [
    {
     "data": {
      "text/plain": [
       "emotion\n",
       "sorpresa      11466\n",
       "alegría       11434\n",
       "miedo         11429\n",
       "odio          11390\n",
       "calma         11388\n",
       "afecto        11375\n",
       "optimismo     11372\n",
       "tristeza      11351\n",
       "asco          11345\n",
       "admiración    11343\n",
       "ira           11324\n",
       "Name: count, dtype: int64"
      ]
     },
     "execution_count": 87,
     "metadata": {},
     "output_type": "execute_result"
    }
   ],
   "source": [
    "# hrecpw\n",
    "df4['emotion'].value_counts()"
   ]
  },
  {
   "cell_type": "code",
   "execution_count": 88,
   "id": "bba1c148-919f-41ea-afa0-75c81e75ddf1",
   "metadata": {},
   "outputs": [],
   "source": [
    "df4 = df4[df4[\"emotion\"] != \"sorpresa\"].copy()\n",
    "df4 = df4[df4[\"emotion\"] != \"odio\"].copy()\n",
    "df4 = df4[df4[\"emotion\"] != \"calma\"].copy()\n",
    "df4 = df4[df4[\"emotion\"] != \"afecto\"].copy()\n",
    "df4 = df4[df4[\"emotion\"] != \"optimismo\"].copy()\n",
    "df4 = df4[df4[\"emotion\"] != \"admiración\"].copy()"
   ]
  },
  {
   "cell_type": "code",
   "execution_count": 89,
   "id": "6555c0f8-bbf2-4979-8ec2-bd1ec8dd1b6a",
   "metadata": {},
   "outputs": [],
   "source": [
    "# Mapeo de etiquetas de inglés a español\n",
    "emotion_mapping = {\n",
    "    'asco': 'disgusto',\n",
    "}\n",
    "\n",
    "# para que los valores no mapeados permanezcan igual.\n",
    "df4['emotion'] = df4['emotion'].map(emotion_mapping).fillna(df4['emotion'])"
   ]
  },
  {
   "cell_type": "code",
   "execution_count": 90,
   "id": "b1427b60-3f82-4b56-829d-0635f06a1166",
   "metadata": {},
   "outputs": [],
   "source": [
    "# Concatenar (si tienen la misma estructura)\n",
    "df = pd.concat([df1, df2, df3, df4], ignore_index=True)\n",
    "\n",
    "# Eliminar duplicados (opcional)\n",
    "df = df.drop_duplicates()"
   ]
  },
  {
   "cell_type": "code",
   "execution_count": 91,
   "id": "fda0bfea-4aba-4d17-a94d-53f8b011c1c0",
   "metadata": {},
   "outputs": [
    {
     "data": {
      "text/plain": [
       "emotion\n",
       "alegría     20644\n",
       "tristeza    18737\n",
       "ira         15549\n",
       "miedo       13926\n",
       "disgusto    12691\n",
       "neutral      6111\n",
       "Name: count, dtype: int64"
      ]
     },
     "execution_count": 91,
     "metadata": {},
     "output_type": "execute_result"
    }
   ],
   "source": [
    "df['emotion'].value_counts()"
   ]
  },
  {
   "cell_type": "code",
   "execution_count": null,
   "id": "e48111fc-f85f-4316-8142-c65de0f45792",
   "metadata": {},
   "outputs": [],
   "source": []
  }
 ],
 "metadata": {
  "kernelspec": {
   "display_name": "venv",
   "language": "python",
   "name": "venv"
  },
  "language_info": {
   "codemirror_mode": {
    "name": "ipython",
    "version": 3
   },
   "file_extension": ".py",
   "mimetype": "text/x-python",
   "name": "python",
   "nbconvert_exporter": "python",
   "pygments_lexer": "ipython3",
   "version": "3.11.5"
  }
 },
 "nbformat": 4,
 "nbformat_minor": 5
}
