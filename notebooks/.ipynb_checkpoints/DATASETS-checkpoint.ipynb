{
 "cells": [
  {
   "cell_type": "code",
   "execution_count": 11,
   "id": "e918fae3-5d82-4911-a1bd-5958afe77a61",
   "metadata": {},
   "outputs": [],
   "source": [
    "import pandas as pd\n",
    "\n",
    "# Cargar datasets\n",
    "df1 = pd.read_csv('../data/EMOEVENT_CLEANED_v10.csv')\n",
    "df2 = pd.read_csv('../data/MEACORPUS_V5.csv')\n",
    "df3 = pd.read_csv('../data/english/translated_cleaned5.csv')\n",
    "df4 = pd.read_csv('../data/HRECPW/hrecpw_dataset_6emotions_cleaned_V3.csv')\n"
   ]
  },
  {
   "cell_type": "code",
   "execution_count": 12,
   "id": "3f4c8312-d7bd-4617-a6d5-9e648861b6a4",
   "metadata": {},
   "outputs": [
    {
     "data": {
      "text/plain": [
       "emotion\n",
       "neutral     3669\n",
       "alegría     1678\n",
       "tristeza     979\n",
       "ira          797\n",
       "disgusto     153\n",
       "miedo         87\n",
       "Name: count, dtype: int64"
      ]
     },
     "execution_count": 12,
     "metadata": {},
     "output_type": "execute_result"
    }
   ],
   "source": [
    "# emoevent\n",
    "df1['emotion'].value_counts()"
   ]
  },
  {
   "cell_type": "code",
   "execution_count": 13,
   "id": "a5d88796-d0d5-40b0-98c4-1219b3cb5485",
   "metadata": {},
   "outputs": [
    {
     "data": {
      "text/plain": [
       "emotion\n",
       "neutral     1950\n",
       "disgusto    1177\n",
       "ira          654\n",
       "alegría      632\n",
       "tristeza     566\n",
       "miedo         31\n",
       "Name: count, dtype: int64"
      ]
     },
     "execution_count": 13,
     "metadata": {},
     "output_type": "execute_result"
    }
   ],
   "source": [
    "# meacorpus\n",
    "df2['emotion'].value_counts()"
   ]
  },
  {
   "cell_type": "code",
   "execution_count": 14,
   "id": "b3753829-6fb7-4c3b-a8ae-0108b889fb1e",
   "metadata": {},
   "outputs": [
    {
     "data": {
      "text/plain": [
       "emotion\n",
       "alegría     5554\n",
       "tristeza    4894\n",
       "ira         2249\n",
       "miedo       2026\n",
       "Name: count, dtype: int64"
      ]
     },
     "execution_count": 14,
     "metadata": {},
     "output_type": "execute_result"
    }
   ],
   "source": [
    "# translated\n",
    "df3['emotion'].value_counts()"
   ]
  },
  {
   "cell_type": "code",
   "execution_count": 15,
   "id": "294d4ba3-49d4-42dd-818f-a4ae6befd50c",
   "metadata": {},
   "outputs": [
    {
     "data": {
      "text/plain": [
       "emotion\n",
       "miedo       11285\n",
       "disgusto    11255\n",
       "tristeza    10506\n",
       "alegría     10027\n",
       "ira          9428\n",
       "Name: count, dtype: int64"
      ]
     },
     "execution_count": 15,
     "metadata": {},
     "output_type": "execute_result"
    }
   ],
   "source": [
    "# hrecpw\n",
    "df4['emotion'].value_counts()"
   ]
  },
  {
   "cell_type": "code",
   "execution_count": 17,
   "id": "b1427b60-3f82-4b56-829d-0635f06a1166",
   "metadata": {},
   "outputs": [],
   "source": [
    "# Concatenar (si tienen la misma estructura)\n",
    "df = pd.concat([df1, df2, df3, df4], ignore_index=True)\n",
    "\n",
    "# Eliminar duplicados (opcional)\n",
    "df = df.drop_duplicates()"
   ]
  },
  {
   "cell_type": "code",
   "execution_count": 18,
   "id": "fda0bfea-4aba-4d17-a94d-53f8b011c1c0",
   "metadata": {},
   "outputs": [
    {
     "data": {
      "text/plain": [
       "emotion\n",
       "alegría     17799\n",
       "tristeza    16753\n",
       "miedo       13299\n",
       "ira         13026\n",
       "disgusto    12579\n",
       "neutral      5612\n",
       "Name: count, dtype: int64"
      ]
     },
     "execution_count": 18,
     "metadata": {},
     "output_type": "execute_result"
    }
   ],
   "source": [
    "df['emotion'].value_counts()"
   ]
  },
  {
   "cell_type": "code",
   "execution_count": 19,
   "id": "780c50ae-a794-4473-aa6f-11f714803255",
   "metadata": {},
   "outputs": [],
   "source": [
    "df.to_csv(\"../data/COMPLETE/COMPLETE_CLEAN.csv\", index=False)"
   ]
  },
  {
   "cell_type": "code",
   "execution_count": 11,
   "id": "7ec35397-6932-4701-946f-4132cb897353",
   "metadata": {},
   "outputs": [],
   "source": [
    "# Definir la función para hacer un submuestreo seguro\n",
    "def submuestreo_por_categoria(df, categoria_col, tamaño_muestra=5612):\n",
    "    # Crear una lista para almacenar las muestras de cada categoría\n",
    "    muestras = []\n",
    "    \n",
    "    # Iterar sobre cada categoría única en el DataFrame\n",
    "    for categoria in df[categoria_col].unique():\n",
    "        # Filtrar los datos de esa categoría\n",
    "        categoria_df = df[df[categoria_col] == categoria]\n",
    "        \n",
    "        # Si la categoría tiene más de 'tamaño_muestra' registros, submuestrear\n",
    "        if len(categoria_df) >= tamaño_muestra:\n",
    "            muestra_categoria = categoria_df.sample(n=tamaño_muestra, random_state=42)\n",
    "        else:\n",
    "            # Si la categoría tiene menos registros que 'tamaño_muestra', tomamos todos los registros\n",
    "            muestra_categoria = categoria_df\n",
    "        \n",
    "        # Agregar la muestra de la categoría a la lista\n",
    "        muestras.append(muestra_categoria)\n",
    "    \n",
    "    # Concatenar todas las muestras y devolver el DataFrame resultante\n",
    "    return pd.concat(muestras)"
   ]
  },
  {
   "cell_type": "code",
   "execution_count": 12,
   "id": "c03f1242-6446-4e98-8e19-08bb36cb27fd",
   "metadata": {},
   "outputs": [
    {
     "data": {
      "text/html": [
       "<div>\n",
       "<style scoped>\n",
       "    .dataframe tbody tr th:only-of-type {\n",
       "        vertical-align: middle;\n",
       "    }\n",
       "\n",
       "    .dataframe tbody tr th {\n",
       "        vertical-align: top;\n",
       "    }\n",
       "\n",
       "    .dataframe thead th {\n",
       "        text-align: right;\n",
       "    }\n",
       "</style>\n",
       "<table border=\"1\" class=\"dataframe\">\n",
       "  <thead>\n",
       "    <tr style=\"text-align: right;\">\n",
       "      <th></th>\n",
       "      <th>text</th>\n",
       "      <th>emotion</th>\n",
       "    </tr>\n",
       "  </thead>\n",
       "  <tbody>\n",
       "    <tr>\n",
       "      <th>0</th>\n",
       "      <td>Todos lamentamos la tragedia incluidos los ate...</td>\n",
       "      <td>tristeza</td>\n",
       "    </tr>\n",
       "    <tr>\n",
       "      <th>1</th>\n",
       "      <td>La tristeza consume mis pensamientos, dejándom...</td>\n",
       "      <td>tristeza</td>\n",
       "    </tr>\n",
       "    <tr>\n",
       "      <th>2</th>\n",
       "      <td>Es triste ver cómo el paso del tiempo se lleva...</td>\n",
       "      <td>tristeza</td>\n",
       "    </tr>\n",
       "    <tr>\n",
       "      <th>3</th>\n",
       "      <td>Lamentablemente... pero esas bolas que les fal...</td>\n",
       "      <td>tristeza</td>\n",
       "    </tr>\n",
       "    <tr>\n",
       "      <th>4</th>\n",
       "      <td>Creo que esto ayudará a alguien que se siente ...</td>\n",
       "      <td>tristeza</td>\n",
       "    </tr>\n",
       "    <tr>\n",
       "      <th>...</th>\n",
       "      <td>...</td>\n",
       "      <td>...</td>\n",
       "    </tr>\n",
       "    <tr>\n",
       "      <th>33667</th>\n",
       "      <td>Han hecho que las calles estén llenas hoy, Ado...</td>\n",
       "      <td>neutral</td>\n",
       "    </tr>\n",
       "    <tr>\n",
       "      <th>33668</th>\n",
       "      <td>Se trata de un impuesto de carácter indirecto ...</td>\n",
       "      <td>neutral</td>\n",
       "    </tr>\n",
       "    <tr>\n",
       "      <th>33669</th>\n",
       "      <td>Los miembros occidentales del Consejo de Segur...</td>\n",
       "      <td>neutral</td>\n",
       "    </tr>\n",
       "    <tr>\n",
       "      <th>33670</th>\n",
       "      <td>por el posicionamiento que requería el rival y...</td>\n",
       "      <td>neutral</td>\n",
       "    </tr>\n",
       "    <tr>\n",
       "      <th>33671</th>\n",
       "      <td>¿No te gusta el futbol? nos recomienda cinco l...</td>\n",
       "      <td>neutral</td>\n",
       "    </tr>\n",
       "  </tbody>\n",
       "</table>\n",
       "<p>33672 rows × 2 columns</p>\n",
       "</div>"
      ],
      "text/plain": [
       "                                                    text   emotion\n",
       "0      Todos lamentamos la tragedia incluidos los ate...  tristeza\n",
       "1      La tristeza consume mis pensamientos, dejándom...  tristeza\n",
       "2      Es triste ver cómo el paso del tiempo se lleva...  tristeza\n",
       "3      Lamentablemente... pero esas bolas que les fal...  tristeza\n",
       "4      Creo que esto ayudará a alguien que se siente ...  tristeza\n",
       "...                                                  ...       ...\n",
       "33667  Han hecho que las calles estén llenas hoy, Ado...   neutral\n",
       "33668  Se trata de un impuesto de carácter indirecto ...   neutral\n",
       "33669  Los miembros occidentales del Consejo de Segur...   neutral\n",
       "33670  por el posicionamiento que requería el rival y...   neutral\n",
       "33671  ¿No te gusta el futbol? nos recomienda cinco l...   neutral\n",
       "\n",
       "[33672 rows x 2 columns]"
      ]
     },
     "execution_count": 12,
     "metadata": {},
     "output_type": "execute_result"
    }
   ],
   "source": [
    "# Llamar a la función para obtener la muestra por categoría\n",
    "muestra_final = submuestreo_por_categoria(df, categoria_col='emotion', tamaño_muestra=5612)\n",
    "\n",
    "muestra_final = muestra_final.reset_index(drop=True)\n",
    "\n",
    "# Mostrar la muestra final\n",
    "muestra_final\n"
   ]
  },
  {
   "cell_type": "code",
   "execution_count": 15,
   "id": "7bfdc99e-b9fd-4c72-9151-e544ea38635e",
   "metadata": {},
   "outputs": [],
   "source": [
    "muestra_final = muestra_final.sample(frac=1).reset_index(drop=True)"
   ]
  },
  {
   "cell_type": "code",
   "execution_count": 16,
   "id": "a6b45c7d-2d37-4144-8a15-183d56ec3897",
   "metadata": {},
   "outputs": [
    {
     "data": {
      "text/html": [
       "<div>\n",
       "<style scoped>\n",
       "    .dataframe tbody tr th:only-of-type {\n",
       "        vertical-align: middle;\n",
       "    }\n",
       "\n",
       "    .dataframe tbody tr th {\n",
       "        vertical-align: top;\n",
       "    }\n",
       "\n",
       "    .dataframe thead th {\n",
       "        text-align: right;\n",
       "    }\n",
       "</style>\n",
       "<table border=\"1\" class=\"dataframe\">\n",
       "  <thead>\n",
       "    <tr style=\"text-align: right;\">\n",
       "      <th></th>\n",
       "      <th>text</th>\n",
       "      <th>emotion</th>\n",
       "    </tr>\n",
       "  </thead>\n",
       "  <tbody>\n",
       "    <tr>\n",
       "      <th>0</th>\n",
       "      <td>Acabo de ver la gran pérdida que estamos tenie...</td>\n",
       "      <td>tristeza</td>\n",
       "    </tr>\n",
       "    <tr>\n",
       "      <th>1</th>\n",
       "      <td>¿A que vamos a reconstruir Notre Dame antes de...</td>\n",
       "      <td>tristeza</td>\n",
       "    </tr>\n",
       "    <tr>\n",
       "      <th>2</th>\n",
       "      <td>Desde ayer andan sufriendo por el incendio ni ...</td>\n",
       "      <td>ira</td>\n",
       "    </tr>\n",
       "    <tr>\n",
       "      <th>3</th>\n",
       "      <td>Muy afectada como muchísima gente por lo ocurr...</td>\n",
       "      <td>tristeza</td>\n",
       "    </tr>\n",
       "    <tr>\n",
       "      <th>4</th>\n",
       "      <td>Es una mierda lo que paso pero please dejen de...</td>\n",
       "      <td>disgusto</td>\n",
       "    </tr>\n",
       "    <tr>\n",
       "      <th>...</th>\n",
       "      <td>...</td>\n",
       "      <td>...</td>\n",
       "    </tr>\n",
       "    <tr>\n",
       "      <th>79592</th>\n",
       "      <td>La vista de esa herida infectada me produce un...</td>\n",
       "      <td>disgusto</td>\n",
       "    </tr>\n",
       "    <tr>\n",
       "      <th>79593</th>\n",
       "      <td>La simple idea de eso me hace querer vomitar</td>\n",
       "      <td>disgusto</td>\n",
       "    </tr>\n",
       "    <tr>\n",
       "      <th>79594</th>\n",
       "      <td>No puedo tolerar el olor a productos químicos ...</td>\n",
       "      <td>disgusto</td>\n",
       "    </tr>\n",
       "    <tr>\n",
       "      <th>79595</th>\n",
       "      <td>Lo que vi supera cualquier nivel de asco que h...</td>\n",
       "      <td>disgusto</td>\n",
       "    </tr>\n",
       "    <tr>\n",
       "      <th>79596</th>\n",
       "      <td>No puedo evitar sentir una repulsión instintiv...</td>\n",
       "      <td>disgusto</td>\n",
       "    </tr>\n",
       "  </tbody>\n",
       "</table>\n",
       "<p>79068 rows × 2 columns</p>\n",
       "</div>"
      ],
      "text/plain": [
       "                                                    text   emotion\n",
       "0      Acabo de ver la gran pérdida que estamos tenie...  tristeza\n",
       "1      ¿A que vamos a reconstruir Notre Dame antes de...  tristeza\n",
       "2      Desde ayer andan sufriendo por el incendio ni ...       ira\n",
       "3      Muy afectada como muchísima gente por lo ocurr...  tristeza\n",
       "4      Es una mierda lo que paso pero please dejen de...  disgusto\n",
       "...                                                  ...       ...\n",
       "79592  La vista de esa herida infectada me produce un...  disgusto\n",
       "79593       La simple idea de eso me hace querer vomitar  disgusto\n",
       "79594  No puedo tolerar el olor a productos químicos ...  disgusto\n",
       "79595  Lo que vi supera cualquier nivel de asco que h...  disgusto\n",
       "79596  No puedo evitar sentir una repulsión instintiv...  disgusto\n",
       "\n",
       "[79068 rows x 2 columns]"
      ]
     },
     "execution_count": 16,
     "metadata": {},
     "output_type": "execute_result"
    }
   ],
   "source": [
    "df"
   ]
  },
  {
   "cell_type": "code",
   "execution_count": 17,
   "id": "48582aa6-c0e6-45c8-8760-46783424bf55",
   "metadata": {},
   "outputs": [],
   "source": [
    "muestra_final.to_csv(\"../data/COMPLETE/Muestra_Final.csv\", index=False)"
   ]
  },
  {
   "cell_type": "code",
   "execution_count": 19,
   "id": "479957bc-fe95-40b8-abe2-1397a9a992b0",
   "metadata": {},
   "outputs": [
    {
     "data": {
      "text/plain": [
       "emotion\n",
       "neutral     5612\n",
       "tristeza    5612\n",
       "disgusto    5612\n",
       "alegría     5612\n",
       "ira         5612\n",
       "miedo       5612\n",
       "Name: count, dtype: int64"
      ]
     },
     "execution_count": 19,
     "metadata": {},
     "output_type": "execute_result"
    }
   ],
   "source": [
    "muestra_final['emotion'].value_counts()"
   ]
  },
  {
   "cell_type": "code",
   "execution_count": 22,
   "id": "7f312a8c-684f-4684-9ae9-df85e3a07dd9",
   "metadata": {},
   "outputs": [
    {
     "data": {
      "text/html": [
       "<div>\n",
       "<style scoped>\n",
       "    .dataframe tbody tr th:only-of-type {\n",
       "        vertical-align: middle;\n",
       "    }\n",
       "\n",
       "    .dataframe tbody tr th {\n",
       "        vertical-align: top;\n",
       "    }\n",
       "\n",
       "    .dataframe thead th {\n",
       "        text-align: right;\n",
       "    }\n",
       "</style>\n",
       "<table border=\"1\" class=\"dataframe\">\n",
       "  <thead>\n",
       "    <tr style=\"text-align: right;\">\n",
       "      <th></th>\n",
       "      <th>text</th>\n",
       "      <th>emotion</th>\n",
       "    </tr>\n",
       "  </thead>\n",
       "  <tbody>\n",
       "    <tr>\n",
       "      <th>0</th>\n",
       "      <td>La Generalitat vuelve a desafiar al Estado dej...</td>\n",
       "      <td>neutral</td>\n",
       "    </tr>\n",
       "    <tr>\n",
       "      <th>1</th>\n",
       "      <td>Un consejo a quienes no han visto el Poneros a...</td>\n",
       "      <td>neutral</td>\n",
       "    </tr>\n",
       "    <tr>\n",
       "      <th>2</th>\n",
       "      <td>obligan a la reflexión y explican por qué sigu...</td>\n",
       "      <td>neutral</td>\n",
       "    </tr>\n",
       "    <tr>\n",
       "      <th>3</th>\n",
       "      <td>Y la policía está investigando los asesinatos ...</td>\n",
       "      <td>neutral</td>\n",
       "    </tr>\n",
       "    <tr>\n",
       "      <th>4</th>\n",
       "      <td>Crítica Caballero de los Siete Reinos. La esen...</td>\n",
       "      <td>neutral</td>\n",
       "    </tr>\n",
       "    <tr>\n",
       "      <th>...</th>\n",
       "      <td>...</td>\n",
       "      <td>...</td>\n",
       "    </tr>\n",
       "    <tr>\n",
       "      <th>295</th>\n",
       "      <td>La sensación de caer al vacío o perder el equi...</td>\n",
       "      <td>miedo</td>\n",
       "    </tr>\n",
       "    <tr>\n",
       "      <th>296</th>\n",
       "      <td>Siento que mis medicamentos no funcionan corre...</td>\n",
       "      <td>miedo</td>\n",
       "    </tr>\n",
       "    <tr>\n",
       "      <th>297</th>\n",
       "      <td>Me invadió el pánico al encontrar una nota ame...</td>\n",
       "      <td>miedo</td>\n",
       "    </tr>\n",
       "    <tr>\n",
       "      <th>298</th>\n",
       "      <td>Me di cuenta este fin de semana que me siento ...</td>\n",
       "      <td>miedo</td>\n",
       "    </tr>\n",
       "    <tr>\n",
       "      <th>299</th>\n",
       "      <td>La presencia de algo desconocido en la habitac...</td>\n",
       "      <td>miedo</td>\n",
       "    </tr>\n",
       "  </tbody>\n",
       "</table>\n",
       "<p>300 rows × 2 columns</p>\n",
       "</div>"
      ],
      "text/plain": [
       "                                                  text  emotion\n",
       "0    La Generalitat vuelve a desafiar al Estado dej...  neutral\n",
       "1    Un consejo a quienes no han visto el Poneros a...  neutral\n",
       "2    obligan a la reflexión y explican por qué sigu...  neutral\n",
       "3    Y la policía está investigando los asesinatos ...  neutral\n",
       "4    Crítica Caballero de los Siete Reinos. La esen...  neutral\n",
       "..                                                 ...      ...\n",
       "295  La sensación de caer al vacío o perder el equi...    miedo\n",
       "296  Siento que mis medicamentos no funcionan corre...    miedo\n",
       "297  Me invadió el pánico al encontrar una nota ame...    miedo\n",
       "298  Me di cuenta este fin de semana que me siento ...    miedo\n",
       "299  La presencia de algo desconocido en la habitac...    miedo\n",
       "\n",
       "[300 rows x 2 columns]"
      ]
     },
     "execution_count": 22,
     "metadata": {},
     "output_type": "execute_result"
    }
   ],
   "source": [
    "# Llamar a la función para obtener la muestra por categoría\n",
    "muestra = submuestreo_por_categoria(muestra_final, categoria_col='emotion', tamaño_muestra=50)\n",
    "muestra = muestra.reset_index(drop=True)\n",
    "# Mostrar la muestra final\n",
    "muestra\n"
   ]
  },
  {
   "cell_type": "code",
   "execution_count": 23,
   "id": "aab69613-7cfc-4c67-95f9-036db7833e1c",
   "metadata": {},
   "outputs": [],
   "source": [
    "muestra = muestra.sample(frac=1).reset_index(drop=True)"
   ]
  },
  {
   "cell_type": "code",
   "execution_count": 24,
   "id": "2442ed09-9bc6-4412-bd4b-c09890563a97",
   "metadata": {},
   "outputs": [],
   "source": [
    "muestra.to_csv(\"../data/COMPLETE/Muestra_Validar_Experto.csv\", index=False)"
   ]
  },
  {
   "cell_type": "code",
   "execution_count": 25,
   "id": "2ba4ddb9-0fae-4afb-8143-64b0d298a4ed",
   "metadata": {},
   "outputs": [
    {
     "name": "stderr",
     "output_type": "stream",
     "text": [
      "2025-05-19 00:33:56,117 - INFO     - Executing shutdown due to inactivity...\n",
      "2025-05-19 00:34:00,341 - INFO     - Executing shutdown...\n",
      "2025-05-19 00:34:00,344 - INFO     - Not running with the Werkzeug Server, exiting by searching gc for BaseWSGIServer\n"
     ]
    }
   ],
   "source": [
    "import pandas as pd\n",
    "import dtale\n",
    "\n",
    "# Mostrar el DataFrame en D-Tale\n",
    "d = dtale.show(muestra)\n",
    "d.open_browser() "
   ]
  }
 ],
 "metadata": {
  "kernelspec": {
   "display_name": "venv",
   "language": "python",
   "name": "venv"
  },
  "language_info": {
   "codemirror_mode": {
    "name": "ipython",
    "version": 3
   },
   "file_extension": ".py",
   "mimetype": "text/x-python",
   "name": "python",
   "nbconvert_exporter": "python",
   "pygments_lexer": "ipython3",
   "version": "3.11.5"
  }
 },
 "nbformat": 4,
 "nbformat_minor": 5
}
