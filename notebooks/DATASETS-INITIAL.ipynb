{
 "cells": [
  {
   "cell_type": "code",
   "execution_count": 20,
   "id": "e918fae3-5d82-4911-a1bd-5958afe77a61",
   "metadata": {},
   "outputs": [],
   "source": [
    "import pandas as pd\n",
    "\n",
    "# Cargar datasets\n",
    "df1 = pd.read_csv('../data/emoevent_es.csv', sep='\\t')\n",
    "df2 = pd.read_csv('../data/MEACORPUS_data.csv')\n",
    "\n",
    "df_1 = pd.read_csv('../data/english/test.txt', sep=';', header=None, names=['text', 'emotion'], engine='python')\n",
    "df_2 = pd.read_csv('../data/english/train.txt', sep=';', header=None, names=['text', 'emotion'], engine='python')\n",
    "df_3 = pd.read_csv('../data/english/val.txt', sep=';', header=None, names=['text', 'emotion'], engine='python')\n",
    "df3 = pd.concat([df_1, df_2, df_3], ignore_index=True)\n",
    "\n",
    "df4 = pd.read_csv('../data/HRECPW/hrecpw_dataset.csv')"
   ]
  },
  {
   "cell_type": "code",
   "execution_count": 21,
   "id": "2d8ebfd9-5992-4782-ad47-63b7e78192e5",
   "metadata": {},
   "outputs": [],
   "source": [
    "df1 = df1[df1[\"emotion\"] != \"surprise\"].copy()"
   ]
  },
  {
   "cell_type": "code",
   "execution_count": 22,
   "id": "e0c6dc3e-6911-4a20-a81f-cc8d6cba43bc",
   "metadata": {},
   "outputs": [],
   "source": [
    "df1 = df1.drop(columns=[\"offensive\"] )\n",
    "df1.rename(columns={'tweet': 'text'}, inplace=True)"
   ]
  },
  {
   "cell_type": "code",
   "execution_count": 23,
   "id": "3f4c8312-d7bd-4617-a6d5-9e648861b6a4",
   "metadata": {},
   "outputs": [
    {
     "data": {
      "text/plain": [
       "emotion\n",
       "others     4127\n",
       "joy        1815\n",
       "sadness    1009\n",
       "anger       857\n",
       "disgust     161\n",
       "fear         96\n",
       "Name: count, dtype: int64"
      ]
     },
     "execution_count": 23,
     "metadata": {},
     "output_type": "execute_result"
    }
   ],
   "source": [
    "# emoevent\n",
    "df1['emotion'].value_counts()"
   ]
  },
  {
   "cell_type": "code",
   "execution_count": 24,
   "id": "61c22554-d3c6-4930-a883-d4e2120bbc5e",
   "metadata": {},
   "outputs": [],
   "source": [
    "emotion_mapping = {\n",
    "    'others': 'neutral',\n",
    "    'anger': 'ira',\n",
    "    'disgust': 'disgusto',\n",
    "    'sadness': 'tristeza',\n",
    "    'joy': 'alegría',\n",
    "    'fear': 'miedo'\n",
    "}\n",
    "df1['emotion'] = df1['emotion'].map(emotion_mapping)"
   ]
  },
  {
   "cell_type": "code",
   "execution_count": 25,
   "id": "fb4f0200-0ba9-43ea-8a89-c6a196852c2f",
   "metadata": {},
   "outputs": [
    {
     "data": {
      "text/plain": [
       "emotion\n",
       "neutral     4127\n",
       "alegría     1815\n",
       "tristeza    1009\n",
       "ira          857\n",
       "disgusto     161\n",
       "miedo         96\n",
       "Name: count, dtype: int64"
      ]
     },
     "execution_count": 25,
     "metadata": {},
     "output_type": "execute_result"
    }
   ],
   "source": [
    "df1['emotion'].value_counts()"
   ]
  },
  {
   "cell_type": "code",
   "execution_count": 26,
   "id": "4fb163a0-f00d-4dd8-a312-ff7e32025337",
   "metadata": {},
   "outputs": [],
   "source": [
    "df2 = df2.drop(columns=[\"youtube_key\" , \"filename\" , \"segment_id\", \"gender\",\t\"start_time\",\t\"end_time\", \"split\"] )\n",
    "df2.rename(columns={'label': 'emotion', 'transcription': 'text'}, inplace=True)\n",
    "df2 = df2[df2[\"emotion\"] != \"surprise\"].copy()"
   ]
  },
  {
   "cell_type": "code",
   "execution_count": 27,
   "id": "1ea63331-1dbd-4d44-991c-db5499bded81",
   "metadata": {},
   "outputs": [],
   "source": [
    "emotion_mapping = {\n",
    "    'neutral': 'neutral',\n",
    "    'anger': 'ira',\n",
    "    'disgust': 'disgusto',\n",
    "    'sadness': 'tristeza',\n",
    "    'joy': 'alegría',\n",
    "    'fear': 'miedo'\n",
    "}"
   ]
  },
  {
   "cell_type": "code",
   "execution_count": 28,
   "id": "ccd1039d-ec57-4ad5-896f-27277be33fc4",
   "metadata": {},
   "outputs": [],
   "source": [
    "df2['emotion'] = df2['emotion'].map(emotion_mapping)"
   ]
  },
  {
   "cell_type": "code",
   "execution_count": 29,
   "id": "a5d88796-d0d5-40b0-98c4-1219b3cb5485",
   "metadata": {},
   "outputs": [
    {
     "data": {
      "text/plain": [
       "emotion\n",
       "neutral     1999\n",
       "disgusto    1200\n",
       "ira          668\n",
       "alegría      643\n",
       "tristeza     582\n",
       "miedo         37\n",
       "Name: count, dtype: int64"
      ]
     },
     "execution_count": 29,
     "metadata": {},
     "output_type": "execute_result"
    }
   ],
   "source": [
    "# meacorpus\n",
    "df2['emotion'].value_counts()"
   ]
  },
  {
   "cell_type": "code",
   "execution_count": 30,
   "id": "b3753829-6fb7-4c3b-a8ae-0108b889fb1e",
   "metadata": {},
   "outputs": [
    {
     "data": {
      "text/plain": [
       "emotion\n",
       "joy         6761\n",
       "sadness     5797\n",
       "anger       2709\n",
       "fear        2373\n",
       "love        1641\n",
       "surprise     719\n",
       "Name: count, dtype: int64"
      ]
     },
     "execution_count": 30,
     "metadata": {},
     "output_type": "execute_result"
    }
   ],
   "source": [
    "# translated\n",
    "df3['emotion'].value_counts()"
   ]
  },
  {
   "cell_type": "code",
   "execution_count": 31,
   "id": "2902a56d-7ce8-447a-be8f-2ae498052a5e",
   "metadata": {},
   "outputs": [],
   "source": [
    "df3 = df3[df3[\"emotion\"] != \"love\"].copy()\n",
    "df3 = df3[df3[\"emotion\"] != \"surprise\"].copy()\n",
    "df3['emotion'] = df3['emotion'].map(emotion_mapping)"
   ]
  },
  {
   "cell_type": "code",
   "execution_count": 32,
   "id": "294d4ba3-49d4-42dd-818f-a4ae6befd50c",
   "metadata": {},
   "outputs": [
    {
     "data": {
      "text/plain": [
       "emotion\n",
       "sorpresa      11466\n",
       "alegría       11434\n",
       "miedo         11429\n",
       "odio          11390\n",
       "calma         11388\n",
       "afecto        11375\n",
       "optimismo     11372\n",
       "tristeza      11351\n",
       "asco          11345\n",
       "admiración    11343\n",
       "ira           11324\n",
       "Name: count, dtype: int64"
      ]
     },
     "execution_count": 32,
     "metadata": {},
     "output_type": "execute_result"
    }
   ],
   "source": [
    "# hrecpw\n",
    "df4['emotion'].value_counts()"
   ]
  },
  {
   "cell_type": "code",
   "execution_count": 33,
   "id": "bba1c148-919f-41ea-afa0-75c81e75ddf1",
   "metadata": {},
   "outputs": [],
   "source": [
    "df4 = df4[df4[\"emotion\"] != \"sorpresa\"].copy()\n",
    "df4 = df4[df4[\"emotion\"] != \"odio\"].copy()\n",
    "df4 = df4[df4[\"emotion\"] != \"calma\"].copy()\n",
    "df4 = df4[df4[\"emotion\"] != \"afecto\"].copy()\n",
    "df4 = df4[df4[\"emotion\"] != \"optimismo\"].copy()\n",
    "df4 = df4[df4[\"emotion\"] != \"admiración\"].copy()"
   ]
  },
  {
   "cell_type": "code",
   "execution_count": 34,
   "id": "6555c0f8-bbf2-4979-8ec2-bd1ec8dd1b6a",
   "metadata": {},
   "outputs": [],
   "source": [
    "# Mapeo de etiquetas de inglés a español\n",
    "emotion_mapping = {\n",
    "    'asco': 'disgusto',\n",
    "}\n",
    "\n",
    "# para que los valores no mapeados permanezcan igual.\n",
    "df4['emotion'] = df4['emotion'].map(emotion_mapping).fillna(df4['emotion'])"
   ]
  },
  {
   "cell_type": "code",
   "execution_count": 35,
   "id": "b1427b60-3f82-4b56-829d-0635f06a1166",
   "metadata": {},
   "outputs": [],
   "source": [
    "# Concatenar (si tienen la misma estructura)\n",
    "df = pd.concat([df1, df2, df3, df4], ignore_index=True)\n",
    "\n",
    "# # Eliminar duplicados (opcional)\n",
    "# df = df.drop_duplicates()"
   ]
  },
  {
   "cell_type": "code",
   "execution_count": 46,
   "id": "c1aa1300-4193-4bd2-b8a9-e58d756afa94",
   "metadata": {},
   "outputs": [
    {
     "name": "stdout",
     "output_type": "stream",
     "text": [
      "<class 'pandas.core.frame.DataFrame'>\n",
      "RangeIndex: 87717 entries, 0 to 87716\n",
      "Data columns (total 2 columns):\n",
      " #   Column   Non-Null Count  Dtype \n",
      "---  ------   --------------  ----- \n",
      " 0   text     87715 non-null  object\n",
      " 1   emotion  87717 non-null  object\n",
      "dtypes: object(2)\n",
      "memory usage: 1.3+ MB\n"
     ]
    }
   ],
   "source": [
    "df.info()"
   ]
  },
  {
   "cell_type": "code",
   "execution_count": 45,
   "id": "e5f467ed-59aa-4727-b466-ebe69ad44f40",
   "metadata": {},
   "outputs": [],
   "source": [
    "df = df.drop(columns=[\"id\"] )\n",
    "df = df.reset_index(drop=True)"
   ]
  },
  {
   "cell_type": "code",
   "execution_count": 36,
   "id": "ab50f514-6ea3-4fac-a037-fb515384d341",
   "metadata": {},
   "outputs": [
    {
     "data": {
      "text/plain": [
       "emotion\n",
       "alegría     20653\n",
       "tristeza    18739\n",
       "ira         15558\n",
       "miedo       13935\n",
       "disgusto    12706\n",
       "neutral      6126\n",
       "Name: count, dtype: int64"
      ]
     },
     "execution_count": 36,
     "metadata": {},
     "output_type": "execute_result"
    }
   ],
   "source": [
    "df['emotion'].value_counts()"
   ]
  },
  {
   "cell_type": "code",
   "execution_count": 47,
   "id": "3669afc4-36f2-49d1-a3c6-d84ee6ea7aa0",
   "metadata": {},
   "outputs": [
    {
     "data": {
      "text/html": [
       "<div>\n",
       "<style scoped>\n",
       "    .dataframe tbody tr th:only-of-type {\n",
       "        vertical-align: middle;\n",
       "    }\n",
       "\n",
       "    .dataframe tbody tr th {\n",
       "        vertical-align: top;\n",
       "    }\n",
       "\n",
       "    .dataframe thead th {\n",
       "        text-align: right;\n",
       "    }\n",
       "</style>\n",
       "<table border=\"1\" class=\"dataframe\">\n",
       "  <thead>\n",
       "    <tr style=\"text-align: right;\">\n",
       "      <th></th>\n",
       "      <th>text</th>\n",
       "      <th>emotion</th>\n",
       "    </tr>\n",
       "  </thead>\n",
       "  <tbody>\n",
       "    <tr>\n",
       "      <th>0</th>\n",
       "      <td>Acabo de ver la gran pérdida que estamos tenie...</td>\n",
       "      <td>tristeza</td>\n",
       "    </tr>\n",
       "    <tr>\n",
       "      <th>1</th>\n",
       "      <td>USER ¿A que vamos a reconstruir Notre Dame ant...</td>\n",
       "      <td>tristeza</td>\n",
       "    </tr>\n",
       "    <tr>\n",
       "      <th>2</th>\n",
       "      <td>Desde ayer andan sufriendo por el incendio de ...</td>\n",
       "      <td>ira</td>\n",
       "    </tr>\n",
       "    <tr>\n",
       "      <th>3</th>\n",
       "      <td>Muy afectada -como muchísima gente- por lo ocu...</td>\n",
       "      <td>tristeza</td>\n",
       "    </tr>\n",
       "    <tr>\n",
       "      <th>4</th>\n",
       "      <td>Es una mierda lo que paso en HASHTAG pero plea...</td>\n",
       "      <td>disgusto</td>\n",
       "    </tr>\n",
       "    <tr>\n",
       "      <th>...</th>\n",
       "      <td>...</td>\n",
       "      <td>...</td>\n",
       "    </tr>\n",
       "    <tr>\n",
       "      <th>87712</th>\n",
       "      <td>La vista de esa herida infectada me produce un...</td>\n",
       "      <td>disgusto</td>\n",
       "    </tr>\n",
       "    <tr>\n",
       "      <th>87713</th>\n",
       "      <td>La simple idea de eso me hace querer vomitar.</td>\n",
       "      <td>disgusto</td>\n",
       "    </tr>\n",
       "    <tr>\n",
       "      <th>87714</th>\n",
       "      <td>No puedo tolerar el olor a productos químicos ...</td>\n",
       "      <td>disgusto</td>\n",
       "    </tr>\n",
       "    <tr>\n",
       "      <th>87715</th>\n",
       "      <td>Lo que vi supera cualquier nivel de asco que h...</td>\n",
       "      <td>disgusto</td>\n",
       "    </tr>\n",
       "    <tr>\n",
       "      <th>87716</th>\n",
       "      <td>No puedo evitar sentir una repulsión instintiv...</td>\n",
       "      <td>disgusto</td>\n",
       "    </tr>\n",
       "  </tbody>\n",
       "</table>\n",
       "<p>87717 rows × 2 columns</p>\n",
       "</div>"
      ],
      "text/plain": [
       "                                                    text   emotion\n",
       "0      Acabo de ver la gran pérdida que estamos tenie...  tristeza\n",
       "1      USER ¿A que vamos a reconstruir Notre Dame ant...  tristeza\n",
       "2      Desde ayer andan sufriendo por el incendio de ...       ira\n",
       "3      Muy afectada -como muchísima gente- por lo ocu...  tristeza\n",
       "4      Es una mierda lo que paso en HASHTAG pero plea...  disgusto\n",
       "...                                                  ...       ...\n",
       "87712  La vista de esa herida infectada me produce un...  disgusto\n",
       "87713      La simple idea de eso me hace querer vomitar.  disgusto\n",
       "87714  No puedo tolerar el olor a productos químicos ...  disgusto\n",
       "87715  Lo que vi supera cualquier nivel de asco que h...  disgusto\n",
       "87716  No puedo evitar sentir una repulsión instintiv...  disgusto\n",
       "\n",
       "[87717 rows x 2 columns]"
      ]
     },
     "execution_count": 47,
     "metadata": {},
     "output_type": "execute_result"
    }
   ],
   "source": [
    "df"
   ]
  },
  {
   "cell_type": "code",
   "execution_count": 48,
   "id": "8154df2a-20f4-4a4d-a61e-143392a6bebd",
   "metadata": {},
   "outputs": [],
   "source": [
    "df.to_csv('../data/COMPLETE/COMPLETE.csv', index=False)"
   ]
  }
 ],
 "metadata": {
  "kernelspec": {
   "display_name": "venv",
   "language": "python",
   "name": "venv"
  },
  "language_info": {
   "codemirror_mode": {
    "name": "ipython",
    "version": 3
   },
   "file_extension": ".py",
   "mimetype": "text/x-python",
   "name": "python",
   "nbconvert_exporter": "python",
   "pygments_lexer": "ipython3",
   "version": "3.11.5"
  }
 },
 "nbformat": 4,
 "nbformat_minor": 5
}
