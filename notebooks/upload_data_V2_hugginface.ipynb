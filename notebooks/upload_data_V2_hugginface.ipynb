{
 "cells": [
  {
   "cell_type": "code",
   "execution_count": null,
   "metadata": {
    "id": "CcvusqsfG3Z0"
   },
   "outputs": [],
   "source": [
    "from sklearn.model_selection import train_test_split\n",
    "import pandas as pd\n",
    "# 1. Cargar dataset\n",
    "df = pd.read_csv(\"datasetV2.csv\")\n",
    "\n",
    "X_train, X_test, X_eval = [], [], []\n",
    "\n",
    "train_ratio = 0.8\n",
    "test_ratio = 0.1\n",
    "eval_ratio = 0.1\n",
    "\n",
    "for emotion in df['emotion'].unique():\n",
    "    subset = df[df['emotion'] == emotion]\n",
    "    train_data, temp_data = train_test_split(subset, test_size=(1 - train_ratio), random_state=42)\n",
    "    test_data, eval_data = train_test_split(temp_data, test_size=eval_ratio / (eval_ratio + test_ratio), random_state=42)\n",
    "    X_train.append(train_data)\n",
    "    X_test.append(test_data)\n",
    "    X_eval.append(eval_data)\n",
    "\n",
    "# Combinar y barajar\n",
    "X_train = pd.concat(X_train).sample(frac=1, random_state=10).reset_index(drop=True)\n",
    "X_test = pd.concat(X_test).sample(frac=1, random_state=10).reset_index(drop=True)\n",
    "X_eval = pd.concat(X_eval).sample(frac=1, random_state=10).reset_index(drop=True)\n",
    "\n"
   ]
  },
  {
   "cell_type": "code",
   "execution_count": null,
   "metadata": {
    "colab": {
     "base_uri": "https://localhost:8080/"
    },
    "id": "pjC38VLZID2x",
    "outputId": "ab60ffc5-26ab-40e1-db8e-6cb86e40b33e"
   },
   "outputs": [
    {
     "name": "stdout",
     "output_type": "stream",
     "text": [
      "Distribución en X_train:\n",
      "emotion\n",
      "ira         4489\n",
      "miedo       4489\n",
      "alegría     4489\n",
      "neutral     4489\n",
      "tristeza    4489\n",
      "disgusto    4489\n",
      "Name: count, dtype: int64\n",
      "\n",
      "Distribución en X_test:\n",
      "emotion\n",
      "neutral     561\n",
      "tristeza    561\n",
      "ira         561\n",
      "alegría     561\n",
      "miedo       561\n",
      "disgusto    561\n",
      "Name: count, dtype: int64\n",
      "\n",
      "Distribución en X_eval:\n",
      "emotion\n",
      "ira         562\n",
      "tristeza    562\n",
      "alegría     562\n",
      "neutral     562\n",
      "disgusto    562\n",
      "miedo       562\n",
      "Name: count, dtype: int64\n"
     ]
    }
   ],
   "source": [
    "# Confirmar distribuciones\n",
    "print(\"Distribución en X_train:\")\n",
    "print(X_train['emotion'].value_counts())\n",
    "\n",
    "print(\"\\nDistribución en X_test:\")\n",
    "print(X_test['emotion'].value_counts())\n",
    "\n",
    "print(\"\\nDistribución en X_eval:\")\n",
    "print(X_eval['emotion'].value_counts())"
   ]
  },
  {
   "cell_type": "code",
   "execution_count": null,
   "metadata": {
    "id": "CHKo-yn2HoKa"
   },
   "outputs": [],
   "source": [
    "# save csv\n",
    "X_train.to_csv(\"train.csv\", index=False)\n",
    "X_test.to_csv(\"test.csv\", index=False)\n",
    "X_eval.to_csv(\"validation.csv\", index=False)  # llamado 'validation' para Hugging Face"
   ]
  },
  {
   "cell_type": "code",
   "execution_count": null,
   "metadata": {
    "colab": {
     "base_uri": "https://localhost:8080/"
    },
    "id": "S95f_r6hFyR2",
    "outputId": "d69a1f67-6555-4c59-ebf3-36081dd38a0d"
   },
   "outputs": [
    {
     "data": {
      "text/plain": [
       "DatasetDict({\n",
       "    train: Dataset({\n",
       "        features: ['text', 'emotion'],\n",
       "        num_rows: 26934\n",
       "    })\n",
       "    test: Dataset({\n",
       "        features: ['text', 'emotion'],\n",
       "        num_rows: 3366\n",
       "    })\n",
       "    validation: Dataset({\n",
       "        features: ['text', 'emotion'],\n",
       "        num_rows: 3372\n",
       "    })\n",
       "})"
      ]
     },
     "execution_count": 5,
     "metadata": {},
     "output_type": "execute_result"
    }
   ],
   "source": [
    "from datasets import DatasetDict, Dataset\n",
    "\n",
    "# Convertir a Hugging Face Datasets y eliminar índice\n",
    "train_dataset = Dataset.from_pandas(X_train.reset_index(drop=True))\n",
    "test_dataset = Dataset.from_pandas(X_test.reset_index(drop=True))\n",
    "eval_dataset = Dataset.from_pandas(X_eval.reset_index(drop=True))\n",
    "\n",
    "# Crear DatasetDict\n",
    "dataset_dict = DatasetDict({\n",
    "    \"train\": train_dataset,\n",
    "    \"test\": test_dataset,\n",
    "    \"validation\": eval_dataset\n",
    "})\n",
    "\n",
    "# Eliminar columna __index_level_0__ si existe\n",
    "for split in dataset_dict:\n",
    "    if \"__index_level_0__\" in dataset_dict[split].column_names:\n",
    "        dataset_dict[split] = dataset_dict[split].remove_columns(\"__index_level_0__\")\n",
    "\n",
    "dataset_dict"
   ]
  },
  {
   "cell_type": "code",
   "execution_count": null,
   "metadata": {
    "colab": {
     "base_uri": "https://localhost:8080/"
    },
    "id": "Vm62a9RCNg1b",
    "outputId": "ac4082e2-15fa-4ba6-c3e6-84695dd9f63d"
   },
   "outputs": [
    {
     "name": "stdout",
     "output_type": "stream",
     "text": [
      "\n",
      "    _|    _|  _|    _|    _|_|_|    _|_|_|  _|_|_|  _|      _|    _|_|_|      _|_|_|_|    _|_|      _|_|_|  _|_|_|_|\n",
      "    _|    _|  _|    _|  _|        _|          _|    _|_|    _|  _|            _|        _|    _|  _|        _|\n",
      "    _|_|_|_|  _|    _|  _|  _|_|  _|  _|_|    _|    _|  _|  _|  _|  _|_|      _|_|_|    _|_|_|_|  _|        _|_|_|\n",
      "    _|    _|  _|    _|  _|    _|  _|    _|    _|    _|    _|_|  _|    _|      _|        _|    _|  _|        _|\n",
      "    _|    _|    _|_|      _|_|_|    _|_|_|  _|_|_|  _|      _|    _|_|_|      _|        _|    _|    _|_|_|  _|_|_|_|\n",
      "\n",
      "    To log in, `huggingface_hub` requires a token generated from https://huggingface.co/settings/tokens .\n",
      "Enter your token (input will not be visible): \n",
      "Add token as git credential? (Y/n) n\n",
      "Token is valid (permission: write).\n",
      "The token `Datset_Promt_Llama2` has been saved to /root/.cache/huggingface/stored_tokens\n",
      "Your token has been saved to /root/.cache/huggingface/token\n",
      "Login successful.\n",
      "The current active token is: `Datset_Promt_Llama2`\n"
     ]
    }
   ],
   "source": [
    "!huggingface-cli login"
   ]
  },
  {
   "cell_type": "code",
   "execution_count": null,
   "metadata": {
    "colab": {
     "base_uri": "https://localhost:8080/",
     "height": 313,
     "referenced_widgets": [
      "9c1fffe1859b4240954b05f72fffde29",
      "917c7414ffe94ef7a576b0fff832763e",
      "1653af91e329452ebd1d49f5fc7b48ed",
      "ca3997524fb74ed49fe95e4b17edf779",
      "c5b143aa9d0445bea79e7e777990d750",
      "a6015f10491642608208f9447798f6c7",
      "cbeebae715c54498af5ea849c3e6e40c",
      "21dd1249e40741b0ab8efac047663839",
      "9e3479c49d604a169dbfa2b1bb0b39b8",
      "7c615ce3235b46458a355985c571aa89",
      "3aaae1f179714f44b971315e5cb64ef1",
      "ad43b2ee46e44631b764b5766104a215",
      "96914ac81b7f448e9ad451ebe05d1a37",
      "03b7a33f23ab4043adc754a4fa43e987",
      "9bf87c7d624e40338e93eecc83a52cda",
      "be2223d4d5224aaa80a160eb9932d4af",
      "57969cb3354c4418a09ee1c72bb3fd09",
      "21b817ac23d34091b5ee8a3d059be632",
      "bca55b232e0e4289974fb5b635bc256d",
      "cd3d790ad5ef45f9b49daafa7c63b439",
      "1e94b8d080fd44d9b4657dc345cd9e30",
      "1ecdbc1cf4104d2ead8fdc52a56562c4",
      "d7ba071d14f4464487b2f6b404337441",
      "eb66d74eb910468c9e0a11e4483fdf33",
      "3e7fa63ea2f946a6b5ba8359ea45669c",
      "350f6d52cba24e7ea4e9a722634a080f",
      "c305ba0ba7554f9f99974ca4f09ec452",
      "77cbbcbfabe04c1eb107cfcc3225bca1",
      "684da3823dd14f499dc77758ae101f53",
      "d62d0ab05eb544bb826616a66b8428cc",
      "4f9e55a3b5cd4fa0b6d0a42e28b6c92d",
      "d8ee1b9bafa1426aa2b81b381d75bc57",
      "582b48cf3857451fa087ea71b3902693",
      "c62d0ed4f7b241ccb17b5bced71c8a4e",
      "9e70078177b94d85809b1d1b9c08acd5",
      "93d52ff7ac3043e893b621afff1f82fc",
      "7c357c517255441eb14cc2877e0a215a",
      "971a33ee380e4c62afccac53f1b2cf82",
      "e9ed6862ba474587983ca411e1d09c4e",
      "1c3ea186c2fa48f98d0f47f8fc9c7fa3",
      "40602e9a022a4643b1dc73e330f00544",
      "39e5f28bf1114409b2db1123be84de3b",
      "158d0adb10014bc98a2ed8fa5433d4fb",
      "347faf205bd540b98fad8c4cc1e6d36c",
      "34b0348eafe94b2f8a9b197a14911fbf",
      "c66e27f1084f49f6ad8b6c1e1789061c",
      "f5622cdb5c2e4713ae4ee9f4726fa083",
      "c114a13e4c5a41d09118266b39b4697c",
      "7773256b7f18446f9b9752c9cd72194b",
      "fb7a0597c28f4ea38b5dac7c65a0bfe0",
      "728b80b07d754d168d6316715219febc",
      "3bca32e5f92c40e88866548a493cb213",
      "f17179dfa7534b21941e53ed63aa2f5d",
      "adaad06e52cf494596e8796e4199b1b7",
      "d838ddbac83942f5a8265bd8f5ac3f3b",
      "4fdda026d97941b797e4217a3df0a5fd",
      "f1768e42514040f3bf6b13c01bbee5f2",
      "9f61fc110e4146b280e27fa58e17d0c3",
      "4d36a70b5b7a46c881eb7d509645404c",
      "237f680c7fd24bcd8dc5808a2cdb0cac",
      "634f5a076e5b42cea113ec633e4d2085",
      "74f8538c9472406d8896486d97b24e75",
      "4dd20b05849b450485615bb93bd6c4ac",
      "a16a89e2979d44c18344066c3c874733",
      "b4d5d18d9da64b58acc73afb243c234b",
      "e5227e794d3e427b91e4b7a94779776e"
     ]
    },
    "id": "RIijQzR1OA1n",
    "outputId": "66417b4f-f0ee-4fea-8b8a-9fef2d6dd03e"
   },
   "outputs": [
    {
     "name": "stderr",
     "output_type": "stream",
     "text": [
      "/usr/local/lib/python3.11/dist-packages/huggingface_hub/utils/_auth.py:94: UserWarning: \n",
      "The secret `HF_TOKEN` does not exist in your Colab secrets.\n",
      "To authenticate with the Hugging Face Hub, create a token in your settings tab (https://huggingface.co/settings/tokens), set it as secret in your Google Colab and restart your session.\n",
      "You will be able to reuse this secret in all of your notebooks.\n",
      "Please note that authentication is recommended but still optional to access public models or datasets.\n",
      "  warnings.warn(\n"
     ]
    },
    {
     "data": {
      "application/vnd.jupyter.widget-view+json": {
       "model_id": "9c1fffe1859b4240954b05f72fffde29",
       "version_major": 2,
       "version_minor": 0
      },
      "text/plain": [
       "Pushing dataset shards to the dataset hub:   0%|          | 0/1 [00:00<?, ?it/s]"
      ]
     },
     "metadata": {},
     "output_type": "display_data"
    },
    {
     "data": {
      "application/vnd.jupyter.widget-view+json": {
       "model_id": "ad43b2ee46e44631b764b5766104a215",
       "version_major": 2,
       "version_minor": 0
      },
      "text/plain": [
       "Creating parquet from Arrow format:   0%|          | 0/27 [00:00<?, ?ba/s]"
      ]
     },
     "metadata": {},
     "output_type": "display_data"
    },
    {
     "data": {
      "application/vnd.jupyter.widget-view+json": {
       "model_id": "d7ba071d14f4464487b2f6b404337441",
       "version_major": 2,
       "version_minor": 0
      },
      "text/plain": [
       "Pushing dataset shards to the dataset hub:   0%|          | 0/1 [00:00<?, ?it/s]"
      ]
     },
     "metadata": {},
     "output_type": "display_data"
    },
    {
     "data": {
      "application/vnd.jupyter.widget-view+json": {
       "model_id": "c62d0ed4f7b241ccb17b5bced71c8a4e",
       "version_major": 2,
       "version_minor": 0
      },
      "text/plain": [
       "Creating parquet from Arrow format:   0%|          | 0/4 [00:00<?, ?ba/s]"
      ]
     },
     "metadata": {},
     "output_type": "display_data"
    },
    {
     "data": {
      "application/vnd.jupyter.widget-view+json": {
       "model_id": "34b0348eafe94b2f8a9b197a14911fbf",
       "version_major": 2,
       "version_minor": 0
      },
      "text/plain": [
       "Pushing dataset shards to the dataset hub:   0%|          | 0/1 [00:00<?, ?it/s]"
      ]
     },
     "metadata": {},
     "output_type": "display_data"
    },
    {
     "data": {
      "application/vnd.jupyter.widget-view+json": {
       "model_id": "4fdda026d97941b797e4217a3df0a5fd",
       "version_major": 2,
       "version_minor": 0
      },
      "text/plain": [
       "Creating parquet from Arrow format:   0%|          | 0/4 [00:00<?, ?ba/s]"
      ]
     },
     "metadata": {},
     "output_type": "display_data"
    }
   ],
   "source": [
    "from huggingface_hub import HfApi\n",
    "\n",
    "# Nombre del dataset en el espacio personal\n",
    "dataset_dict.push_to_hub(\"Joseph7D/emotion-dataset-v2\")\n"
   ]
  },
  {
   "cell_type": "code",
   "execution_count": null,
   "metadata": {
    "colab": {
     "base_uri": "https://localhost:8080/"
    },
    "id": "BbUQcSWCFMwa",
    "outputId": "5192e630-f127-431d-8982-30002f5388c0"
   },
   "outputs": [
    {
     "name": "stdout",
     "output_type": "stream",
     "text": [
      "                                                text\n",
      "0  <s>[INST] Clasifica el siguiente texto en una ...\n",
      "1  <s>[INST] Clasifica el siguiente texto en una ...\n",
      "                                                text\n",
      "0  <s>[INST] Clasifica el siguiente texto en una ...\n",
      "1  <s>[INST] Clasifica el siguiente texto en una ...\n",
      "                                                text\n",
      "0  <s>[INST] Clasifica el siguiente texto en una ...\n",
      "1  <s>[INST] Clasifica el siguiente texto en una ...\n"
     ]
    }
   ],
   "source": [
    "def formatear_para_llama(df):\n",
    "    \"\"\"\n",
    "    Formatear un DataFrame con columnas 'text' y 'emotion' al formato de entrenamiento tipo Llama 2 chat.\n",
    "\n",
    "    Retornar un nuevo DataFrame con la columna 'text'.\n",
    "    \"\"\"\n",
    "    def construir_prompt(row):\n",
    "        return f\"<s>[INST] Clasifica el siguiente texto en una de estas emociones: ira, disgusto, tristeza, alegría, miedo o neutral. \" \\\n",
    "               f\"Responde únicamente con la emoción correspondiente.\\n\\n\" \\\n",
    "               f\"Texto: \\\"{row['text']}\\\" [/INST] {row['emotion']} </s>\"\n",
    "\n",
    "    df_formatted = df.copy()\n",
    "    df_formatted[\"text\"] = df_formatted.apply(construir_prompt, axis=1)\n",
    "    return df_formatted[[\"text\"]]  # Retorna solo la columna necesaria para entrenamiento\n",
    "\n",
    "# Usar la función\n",
    "X_train_formatted = formatear_para_llama(X_train)\n",
    "X_test_formatted = formatear_para_llama(X_test)\n",
    "X_eval_formatted = formatear_para_llama(X_eval)\n",
    "\n",
    "# Ejemplo de vista previa\n",
    "print(X_train_formatted.head(2))\n",
    "print(X_test_formatted.head(2))\n",
    "print(X_eval_formatted.head(2))"
   ]
  },
  {
   "cell_type": "code",
   "execution_count": null,
   "metadata": {
    "colab": {
     "base_uri": "https://localhost:8080/"
    },
    "id": "5DvYw-j9JzAt",
    "outputId": "98184bc0-6510-4e88-de7e-fdf0e90efa6f"
   },
   "outputs": [
    {
     "data": {
      "text/plain": [
       "DatasetDict({\n",
       "    train: Dataset({\n",
       "        features: ['text'],\n",
       "        num_rows: 26934\n",
       "    })\n",
       "    test: Dataset({\n",
       "        features: ['text'],\n",
       "        num_rows: 3366\n",
       "    })\n",
       "    validation: Dataset({\n",
       "        features: ['text'],\n",
       "        num_rows: 3372\n",
       "    })\n",
       "})"
      ]
     },
     "execution_count": 10,
     "metadata": {},
     "output_type": "execute_result"
    }
   ],
   "source": [
    "# Convertir a Hugging Face Datasets y eliminar índice\n",
    "train_dataset = Dataset.from_pandas(X_train_formatted.reset_index(drop=True))\n",
    "test_dataset = Dataset.from_pandas(X_test_formatted.reset_index(drop=True))\n",
    "eval_dataset = Dataset.from_pandas(X_eval_formatted.reset_index(drop=True))\n",
    "\n",
    "# Crear DatasetDict\n",
    "dataset_dict = DatasetDict({\n",
    "    \"train\": train_dataset,\n",
    "    \"test\": test_dataset,\n",
    "    \"validation\": eval_dataset\n",
    "})\n",
    "\n",
    "# Eliminar columna __index_level_0__ si existe\n",
    "for split in dataset_dict:\n",
    "    if \"__index_level_0__\" in dataset_dict[split].column_names:\n",
    "        dataset_dict[split] = dataset_dict[split].remove_columns(\"__index_level_0__\")\n",
    "\n",
    "dataset_dict"
   ]
  },
  {
   "cell_type": "code",
   "execution_count": null,
   "metadata": {
    "colab": {
     "base_uri": "https://localhost:8080/",
     "height": 209,
     "referenced_widgets": [
      "5c2757aab0d0451e85ed0719de5b86e7",
      "4e576818e4124f0fa66652a6fd900972",
      "c634b9f6a6b04b77a5cadb41136befcf",
      "e53f597ccfd54f759e73cf6d91483e4b",
      "f7f8568a0c0e4819a720dcf2b5700172",
      "92a61bcbd4bd4038b6613954c1a48311",
      "b4203576948b432fa8c98e6b94070dc1",
      "294bd1fc54d4451197ddf86f62929443",
      "f1a99fb877be4ea18ba3fadae588101b",
      "19efccfda03e469581e511d73a480aab",
      "ed2df55e2c194d68a12db23443fe132d",
      "98c43826f97a47ac95dcac2926024e93",
      "289960174c5845fca501a3782f83e07e",
      "2569c52be05a4c66bb4657d84b2cdff3",
      "077822aeab3e4c8d8175bb9a1b399b5c",
      "495ce21976b7497aa84406116d1e56e8",
      "c58e839940f64f51a95cea4a61490da5",
      "d04ec7f285af4a3d8a7811b55d3bd1e2",
      "7edb14b9137b40d89f4902b57546e939",
      "4d8b19c6cf93467f9cd802961a2b6fda",
      "0a38fd1606bf4f38b3b58b7f61733ebc",
      "eba9bba311814035a16ca537d708c92a",
      "2b074c6a3895424cbb4eb9209a09f21c",
      "e3407c7fb3294d5897bd0b9518198acc",
      "23a0746db717486b95822812500f475f",
      "afbf758997284c4091211afe3b26799b",
      "95439a7d184b48a8b076d10de1e6247f",
      "8722c6c4f11c41b0b9333f9c278b6eba",
      "5ffab21ab1d341dabb34b74257c263f0",
      "62559e5db2ff4f27890c267118028775",
      "fab30615561f40458bdad4d940b69ce8",
      "e23b6a647f354d6d933fd09350ce6282",
      "1ca6806954434a82bb900c5f6167c76e",
      "3841e18d4b3149bdb958d083a0101d1c",
      "5f3e75c1b8fe47f490a727c797e9532d",
      "3ce9fcf57cd7402cb0ce06c1c42b8df6",
      "ddf94ab29bd14c83bb6211262bdf062b",
      "db0b0ed02bbb49c2903c22da1907a928",
      "ba351e7a92a847eb84d5dca54c8f24d8",
      "c76afb9309934db696a69c3278c0fdc8",
      "07221ef685484cd38e59b5e3a2592036",
      "e930fc90bb2445988a01114d59a7cc18",
      "638774f47a044f0c8411617f6505610f",
      "f48480318f1140b7aab20b30d6dd8b12",
      "35f40ca38d3a45fd812047850a15382d",
      "1c035ebd7ee14f85836b0134baff2a58",
      "d474a50ab2454582957ada4a0b30a8e7",
      "98ab402658b945b7baf56ad8eda9923b",
      "9d0807608c9b4d40a49fb9a7f9c2f67a",
      "03654fbeb8af47bc926ad1047a1e8de9",
      "a42262c92f32471da99a506ffa2f9a25",
      "193e0208a9784fe98b3fec355551525b",
      "1d97b93163c3434796939968317a2848",
      "028ac0ec50c04574b420c464c0e578bd",
      "855b87d217c74fa89fa2ba01c4771722",
      "56794ba0945240a69d425051237e6666",
      "d58d62537c404f4897ca8616437def75",
      "43ed0e8aa7e54e38bf106efebf74268e",
      "834aa0a9e77847fd9619e39c001f696f",
      "b18eafe03d00447492f855149bc42cf2",
      "f514ade58c744943afd7d0505ea0fa22",
      "4e121a38b86e41f881767c2a67108ef4",
      "23bee6406f534a6ba3bd9fe239ef9a28",
      "842da4c43d0a4887b7bd09556f8db930",
      "e3792004486841c1aa2a2a03f80ddb2b",
      "703d46da7b5c47a280f617df1239e77b"
     ]
    },
    "id": "TwJQhDYtJQlj",
    "outputId": "279b355f-9957-494b-efea-81d6f49e1627"
   },
   "outputs": [
    {
     "data": {
      "application/vnd.jupyter.widget-view+json": {
       "model_id": "5c2757aab0d0451e85ed0719de5b86e7",
       "version_major": 2,
       "version_minor": 0
      },
      "text/plain": [
       "Pushing dataset shards to the dataset hub:   0%|          | 0/1 [00:00<?, ?it/s]"
      ]
     },
     "metadata": {},
     "output_type": "display_data"
    },
    {
     "data": {
      "application/vnd.jupyter.widget-view+json": {
       "model_id": "98c43826f97a47ac95dcac2926024e93",
       "version_major": 2,
       "version_minor": 0
      },
      "text/plain": [
       "Creating parquet from Arrow format:   0%|          | 0/27 [00:00<?, ?ba/s]"
      ]
     },
     "metadata": {},
     "output_type": "display_data"
    },
    {
     "data": {
      "application/vnd.jupyter.widget-view+json": {
       "model_id": "2b074c6a3895424cbb4eb9209a09f21c",
       "version_major": 2,
       "version_minor": 0
      },
      "text/plain": [
       "Pushing dataset shards to the dataset hub:   0%|          | 0/1 [00:00<?, ?it/s]"
      ]
     },
     "metadata": {},
     "output_type": "display_data"
    },
    {
     "data": {
      "application/vnd.jupyter.widget-view+json": {
       "model_id": "3841e18d4b3149bdb958d083a0101d1c",
       "version_major": 2,
       "version_minor": 0
      },
      "text/plain": [
       "Creating parquet from Arrow format:   0%|          | 0/4 [00:00<?, ?ba/s]"
      ]
     },
     "metadata": {},
     "output_type": "display_data"
    },
    {
     "data": {
      "application/vnd.jupyter.widget-view+json": {
       "model_id": "35f40ca38d3a45fd812047850a15382d",
       "version_major": 2,
       "version_minor": 0
      },
      "text/plain": [
       "Pushing dataset shards to the dataset hub:   0%|          | 0/1 [00:00<?, ?it/s]"
      ]
     },
     "metadata": {},
     "output_type": "display_data"
    },
    {
     "data": {
      "application/vnd.jupyter.widget-view+json": {
       "model_id": "56794ba0945240a69d425051237e6666",
       "version_major": 2,
       "version_minor": 0
      },
      "text/plain": [
       "Creating parquet from Arrow format:   0%|          | 0/4 [00:00<?, ?ba/s]"
      ]
     },
     "metadata": {},
     "output_type": "display_data"
    }
   ],
   "source": [
    "# Nombre del dataset en el espacio personal\n",
    "dataset_dict.push_to_hub(\"Joseph7D/prompt-emotion-dataset-v2\")"
   ]
  }
 ],
 "metadata": {
  "colab": {
   "provenance": []
  },
  "kernelspec": {
   "display_name": "Python 3 (ipykernel)",
   "language": "python",
   "name": "python3"
  },
  "language_info": {
   "codemirror_mode": {
    "name": "ipython",
    "version": 3
   },
   "file_extension": ".py",
   "mimetype": "text/x-python",
   "name": "python",
   "nbconvert_exporter": "python",
   "pygments_lexer": "ipython3",
   "version": "3.11.5"
  }
 },
 "nbformat": 4,
 "nbformat_minor": 4
}